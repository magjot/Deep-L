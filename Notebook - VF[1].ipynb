{
 "cells": [
  {
   "cell_type": "markdown",
   "id": "d138aa82",
   "metadata": {},
   "source": [
    "1. Data Collection"
   ]
  },
  {
   "cell_type": "markdown",
   "id": "8a7284cb",
   "metadata": {},
   "source": [
    "Load dataset"
   ]
  },
  {
   "cell_type": "code",
   "execution_count": 103,
   "id": "60fadeb3",
   "metadata": {},
   "outputs": [
    {
     "data": {
      "text/html": [
       "<div>\n",
       "<style scoped>\n",
       "    .dataframe tbody tr th:only-of-type {\n",
       "        vertical-align: middle;\n",
       "    }\n",
       "\n",
       "    .dataframe tbody tr th {\n",
       "        vertical-align: top;\n",
       "    }\n",
       "\n",
       "    .dataframe thead th {\n",
       "        text-align: right;\n",
       "    }\n",
       "</style>\n",
       "<table border=\"1\" class=\"dataframe\">\n",
       "  <thead>\n",
       "    <tr style=\"text-align: right;\">\n",
       "      <th></th>\n",
       "      <th>question</th>\n",
       "      <th>answer</th>\n",
       "      <th>source</th>\n",
       "      <th>focus_area</th>\n",
       "    </tr>\n",
       "  </thead>\n",
       "  <tbody>\n",
       "    <tr>\n",
       "      <th>0</th>\n",
       "      <td>What is (are) Glaucoma ?</td>\n",
       "      <td>Glaucoma is a group of diseases that can damag...</td>\n",
       "      <td>NIHSeniorHealth</td>\n",
       "      <td>Glaucoma</td>\n",
       "    </tr>\n",
       "    <tr>\n",
       "      <th>1</th>\n",
       "      <td>What causes Glaucoma ?</td>\n",
       "      <td>Nearly 2.7 million people have glaucoma, a lea...</td>\n",
       "      <td>NIHSeniorHealth</td>\n",
       "      <td>Glaucoma</td>\n",
       "    </tr>\n",
       "    <tr>\n",
       "      <th>2</th>\n",
       "      <td>What are the symptoms of Glaucoma ?</td>\n",
       "      <td>Symptoms of Glaucoma  Glaucoma can develop in ...</td>\n",
       "      <td>NIHSeniorHealth</td>\n",
       "      <td>Glaucoma</td>\n",
       "    </tr>\n",
       "    <tr>\n",
       "      <th>3</th>\n",
       "      <td>What are the treatments for Glaucoma ?</td>\n",
       "      <td>Although open-angle glaucoma cannot be cured, ...</td>\n",
       "      <td>NIHSeniorHealth</td>\n",
       "      <td>Glaucoma</td>\n",
       "    </tr>\n",
       "    <tr>\n",
       "      <th>4</th>\n",
       "      <td>What is (are) Glaucoma ?</td>\n",
       "      <td>Glaucoma is a group of diseases that can damag...</td>\n",
       "      <td>NIHSeniorHealth</td>\n",
       "      <td>Glaucoma</td>\n",
       "    </tr>\n",
       "  </tbody>\n",
       "</table>\n",
       "</div>"
      ],
      "text/plain": [
       "                                 question  \\\n",
       "0                What is (are) Glaucoma ?   \n",
       "1                  What causes Glaucoma ?   \n",
       "2     What are the symptoms of Glaucoma ?   \n",
       "3  What are the treatments for Glaucoma ?   \n",
       "4                What is (are) Glaucoma ?   \n",
       "\n",
       "                                              answer           source  \\\n",
       "0  Glaucoma is a group of diseases that can damag...  NIHSeniorHealth   \n",
       "1  Nearly 2.7 million people have glaucoma, a lea...  NIHSeniorHealth   \n",
       "2  Symptoms of Glaucoma  Glaucoma can develop in ...  NIHSeniorHealth   \n",
       "3  Although open-angle glaucoma cannot be cured, ...  NIHSeniorHealth   \n",
       "4  Glaucoma is a group of diseases that can damag...  NIHSeniorHealth   \n",
       "\n",
       "  focus_area  \n",
       "0   Glaucoma  \n",
       "1   Glaucoma  \n",
       "2   Glaucoma  \n",
       "3   Glaucoma  \n",
       "4   Glaucoma  "
      ]
     },
     "execution_count": 103,
     "metadata": {},
     "output_type": "execute_result"
    }
   ],
   "source": [
    "import pandas as pd\n",
    "\n",
    "# Load the CSV file into a DataFrame\n",
    "df = pd.read_csv(\"medquad.csv\")\n",
    "\n",
    "# Display the first 5 rows of the dataset\n",
    "df.head()\n"
   ]
  },
  {
   "cell_type": "markdown",
   "id": "5a74d054",
   "metadata": {},
   "source": [
    "2.Exploratory Data Analysis (EDA)"
   ]
  },
  {
   "cell_type": "markdown",
   "id": "9fbacf27",
   "metadata": {},
   "source": [
    "Overview of Dataset Structure"
   ]
  },
  {
   "cell_type": "code",
   "execution_count": 89,
   "id": "931c1170",
   "metadata": {},
   "outputs": [
    {
     "name": "stdout",
     "output_type": "stream",
     "text": [
      "📌 Columns: ['question', 'answer', 'source', 'focus_area']\n",
      "📊 Number of rows: 16412\n",
      "\n",
      "❗ Missing values per column:\n",
      " question       0\n",
      "answer         5\n",
      "source         0\n",
      "focus_area    14\n",
      "dtype: int64\n",
      "\n",
      "🔀 Sample questions:\n",
      " What are the genetic changes related to leukoen...\n",
      "        What to do for Primary Biliary Cirrhosis ?\n",
      "          Who is at risk for Fecal Incontinence? ?\n",
      " What is (are) Pervasive Developmental Disorders ?\n",
      "         What are the symptoms of Crome syndrome ?\n"
     ]
    }
   ],
   "source": [
    "print(\"📌 Columns:\", list(df.columns))\n",
    "print(\"📊 Number of rows:\", len(df))\n",
    "\n",
    "# Check for missing values\n",
    "print(\"\\n❗ Missing values per column:\\n\", df.isnull().sum())\n",
    "\n",
    "# Sample questions\n",
    "print(\"\\n🔀 Sample questions:\\n\", df['question'].sample(5, random_state=42).to_string(index=False))\n"
   ]
  },
  {
   "cell_type": "markdown",
   "id": "e6f8e4f1",
   "metadata": {},
   "source": [
    "random questions, and answer length distribution."
   ]
  },
  {
   "cell_type": "code",
   "execution_count": 90,
   "id": "8660294e",
   "metadata": {},
   "outputs": [
    {
     "name": "stdout",
     "output_type": "stream",
     "text": [
      "8488             What are the treatments for Hemophilia ?\n",
      "7175    What are the symptoms of Charcot-Marie-Tooth d...\n",
      "1377                   What is (are) Male Breast Cancer ?\n",
      "1066              How to diagnose AIDS-Related Lymphoma ?\n",
      "3669    What are the symptoms of Yorifuji Okuno syndro...\n",
      "Name: question, dtype: object\n"
     ]
    }
   ],
   "source": [
    "print(df['question'].sample(5))\n"
   ]
  },
  {
   "cell_type": "markdown",
   "id": "42dc7d77",
   "metadata": {},
   "source": [
    "Check for Missing Values (NaN)"
   ]
  },
  {
   "cell_type": "code",
   "execution_count": 104,
   "id": "c68e85a2",
   "metadata": {},
   "outputs": [
    {
     "name": "stdout",
     "output_type": "stream",
     "text": [
      "Missing values (NaN) per column:\n",
      "question       0\n",
      "answer         5\n",
      "source         0\n",
      "focus_area    14\n",
      "dtype: int64\n"
     ]
    }
   ],
   "source": [
    "# 1. Count missing values (NaN) in each column\n",
    "print(\"Missing values (NaN) per column:\")\n",
    "print(df.isnull().sum())"
   ]
  },
  {
   "cell_type": "markdown",
   "id": "1f146cf2",
   "metadata": {},
   "source": [
    "Extract QA Pairs"
   ]
  },
  {
   "cell_type": "code",
   "execution_count": 92,
   "id": "fc9debb7",
   "metadata": {},
   "outputs": [
    {
     "data": {
      "text/html": [
       "<div>\n",
       "<style scoped>\n",
       "    .dataframe tbody tr th:only-of-type {\n",
       "        vertical-align: middle;\n",
       "    }\n",
       "\n",
       "    .dataframe tbody tr th {\n",
       "        vertical-align: top;\n",
       "    }\n",
       "\n",
       "    .dataframe thead th {\n",
       "        text-align: right;\n",
       "    }\n",
       "</style>\n",
       "<table border=\"1\" class=\"dataframe\">\n",
       "  <thead>\n",
       "    <tr style=\"text-align: right;\">\n",
       "      <th></th>\n",
       "      <th>question</th>\n",
       "      <th>answer</th>\n",
       "    </tr>\n",
       "  </thead>\n",
       "  <tbody>\n",
       "    <tr>\n",
       "      <th>0</th>\n",
       "      <td>What is (are) Glaucoma ?</td>\n",
       "      <td>Glaucoma is a group of diseases that can damag...</td>\n",
       "    </tr>\n",
       "    <tr>\n",
       "      <th>1</th>\n",
       "      <td>What causes Glaucoma ?</td>\n",
       "      <td>Nearly 2.7 million people have glaucoma, a lea...</td>\n",
       "    </tr>\n",
       "    <tr>\n",
       "      <th>2</th>\n",
       "      <td>What are the symptoms of Glaucoma ?</td>\n",
       "      <td>Symptoms of Glaucoma  Glaucoma can develop in ...</td>\n",
       "    </tr>\n",
       "    <tr>\n",
       "      <th>3</th>\n",
       "      <td>What are the treatments for Glaucoma ?</td>\n",
       "      <td>Although open-angle glaucoma cannot be cured, ...</td>\n",
       "    </tr>\n",
       "    <tr>\n",
       "      <th>4</th>\n",
       "      <td>What is (are) Glaucoma ?</td>\n",
       "      <td>Glaucoma is a group of diseases that can damag...</td>\n",
       "    </tr>\n",
       "  </tbody>\n",
       "</table>\n",
       "</div>"
      ],
      "text/plain": [
       "                                 question  \\\n",
       "0                What is (are) Glaucoma ?   \n",
       "1                  What causes Glaucoma ?   \n",
       "2     What are the symptoms of Glaucoma ?   \n",
       "3  What are the treatments for Glaucoma ?   \n",
       "4                What is (are) Glaucoma ?   \n",
       "\n",
       "                                              answer  \n",
       "0  Glaucoma is a group of diseases that can damag...  \n",
       "1  Nearly 2.7 million people have glaucoma, a lea...  \n",
       "2  Symptoms of Glaucoma  Glaucoma can develop in ...  \n",
       "3  Although open-angle glaucoma cannot be cured, ...  \n",
       "4  Glaucoma is a group of diseases that can damag...  "
      ]
     },
     "execution_count": 92,
     "metadata": {},
     "output_type": "execute_result"
    }
   ],
   "source": [
    "qa_df = df[['question', 'answer']]\n",
    "qa_df.head()\n"
   ]
  },
  {
   "cell_type": "markdown",
   "id": "a2270a1a",
   "metadata": {},
   "source": [
    "Select Relevant Columns and Drop Incomplete Rows\n"
   ]
  },
  {
   "cell_type": "code",
   "execution_count": 93,
   "id": "ccf34244",
   "metadata": {},
   "outputs": [
    {
     "name": "stdout",
     "output_type": "stream",
     "text": [
      "(16407, 4)\n"
     ]
    },
    {
     "data": {
      "text/html": [
       "<div>\n",
       "<style scoped>\n",
       "    .dataframe tbody tr th:only-of-type {\n",
       "        vertical-align: middle;\n",
       "    }\n",
       "\n",
       "    .dataframe tbody tr th {\n",
       "        vertical-align: top;\n",
       "    }\n",
       "\n",
       "    .dataframe thead th {\n",
       "        text-align: right;\n",
       "    }\n",
       "</style>\n",
       "<table border=\"1\" class=\"dataframe\">\n",
       "  <thead>\n",
       "    <tr style=\"text-align: right;\">\n",
       "      <th></th>\n",
       "      <th>question</th>\n",
       "      <th>answer</th>\n",
       "      <th>source</th>\n",
       "      <th>focus_area</th>\n",
       "    </tr>\n",
       "  </thead>\n",
       "  <tbody>\n",
       "    <tr>\n",
       "      <th>0</th>\n",
       "      <td>What is (are) Glaucoma ?</td>\n",
       "      <td>Glaucoma is a group of diseases that can damag...</td>\n",
       "      <td>NIHSeniorHealth</td>\n",
       "      <td>Glaucoma</td>\n",
       "    </tr>\n",
       "    <tr>\n",
       "      <th>1</th>\n",
       "      <td>What causes Glaucoma ?</td>\n",
       "      <td>Nearly 2.7 million people have glaucoma, a lea...</td>\n",
       "      <td>NIHSeniorHealth</td>\n",
       "      <td>Glaucoma</td>\n",
       "    </tr>\n",
       "    <tr>\n",
       "      <th>2</th>\n",
       "      <td>What are the symptoms of Glaucoma ?</td>\n",
       "      <td>Symptoms of Glaucoma  Glaucoma can develop in ...</td>\n",
       "      <td>NIHSeniorHealth</td>\n",
       "      <td>Glaucoma</td>\n",
       "    </tr>\n",
       "  </tbody>\n",
       "</table>\n",
       "</div>"
      ],
      "text/plain": [
       "                              question  \\\n",
       "0             What is (are) Glaucoma ?   \n",
       "1               What causes Glaucoma ?   \n",
       "2  What are the symptoms of Glaucoma ?   \n",
       "\n",
       "                                              answer           source  \\\n",
       "0  Glaucoma is a group of diseases that can damag...  NIHSeniorHealth   \n",
       "1  Nearly 2.7 million people have glaucoma, a lea...  NIHSeniorHealth   \n",
       "2  Symptoms of Glaucoma  Glaucoma can develop in ...  NIHSeniorHealth   \n",
       "\n",
       "  focus_area  \n",
       "0   Glaucoma  \n",
       "1   Glaucoma  \n",
       "2   Glaucoma  "
      ]
     },
     "execution_count": 93,
     "metadata": {},
     "output_type": "execute_result"
    }
   ],
   "source": [
    "# Keep only the essential columns for QA tasks and remove rows with missing questions or answers.\n",
    "df = df[['question','answer','source','focus_area']].dropna(subset=['question','answer']).reset_index(drop=True)\n",
    "print(df.shape)\n",
    "df.head(3)"
   ]
  },
  {
   "cell_type": "markdown",
   "id": "24391a34",
   "metadata": {},
   "source": [
    "Answer Length Distribution"
   ]
  },
  {
   "cell_type": "code",
   "execution_count": 94,
   "id": "7f69a97a",
   "metadata": {},
   "outputs": [
    {
     "name": "stdout",
     "output_type": "stream",
     "text": [
      "\n",
      "📏 Answer length (characters):\n",
      " count    16407.000000\n",
      "mean      1303.452673\n",
      "std       1656.694326\n",
      "min          6.000000\n",
      "25%        487.000000\n",
      "50%        890.000000\n",
      "75%       1589.000000\n",
      "max      29046.000000\n",
      "Name: a_len, dtype: float64\n"
     ]
    }
   ],
   "source": [
    "# Add columns for text length\n",
    "df['q_len'] = df['question'].str.len()\n",
    "df['a_len'] = df['answer'].str.len()\n",
    "\n",
    "# Stats on answer length\n",
    "print(\"\\n📏 Answer length (characters):\\n\", df['a_len'].describe())\n"
   ]
  },
  {
   "cell_type": "markdown",
   "id": "a35989d4",
   "metadata": {},
   "source": [
    "Plot: Histogram of Answer Lengths"
   ]
  },
  {
   "cell_type": "code",
   "execution_count": 95,
   "id": "25520dfe",
   "metadata": {},
   "outputs": [
    {
     "data": {
      "image/png": "[encoded data removed]",
      "text/plain": [
       "<Figure size 640x480 with 1 Axes>"
      ]
     },
     "metadata": {},
     "output_type": "display_data"
    }
   ],
   "source": [
    "import matplotlib.pyplot as plt\n",
    "\n",
    "plt.figure()\n",
    "df['a_len'].clip(0, 1500).hist(bins=40)\n",
    "plt.title(\"Distribution of Answer Lengths (clipped at 1500)\")\n",
    "plt.xlabel(\"Characters\")\n",
    "plt.ylabel(\"Frequency\")\n",
    "plt.grid(True)\n",
    "plt.tight_layout()\n",
    "plt.show()\n"
   ]
  },
  {
   "cell_type": "markdown",
   "id": "021b91c3",
   "metadata": {},
   "source": [
    "Plot: Top 20 Focus Areas"
   ]
  },
  {
   "cell_type": "code",
   "execution_count": 96,
   "id": "68918f79",
   "metadata": {},
   "outputs": [
    {
     "data": {
      "image/png": "[encoded data removed]",
      "text/plain": [
       "<Figure size 640x480 with 1 Axes>"
      ]
     },
     "metadata": {},
     "output_type": "display_data"
    }
   ],
   "source": [
    "if 'focus_area' in df.columns:\n",
    "    top_focus = df['focus_area'].value_counts().head(20)\n",
    "    \n",
    "    plt.figure()\n",
    "    top_focus.plot(kind='bar')\n",
    "    plt.title(\"Top 20 Focus Areas\")\n",
    "    plt.xlabel(\"Focus Area\")\n",
    "    plt.ylabel(\"Count\")\n",
    "    plt.xticks(rotation=45, ha='right')\n",
    "    plt.tight_layout()\n",
    "    plt.show()\n"
   ]
  },
  {
   "cell_type": "markdown",
   "id": "fea76ee1",
   "metadata": {},
   "source": [
    "Text Cleaning & Preparation"
   ]
  },
  {
   "cell_type": "markdown",
   "id": "d8cbdaf5",
   "metadata": {},
   "source": [
    "Basic Text Cleaning"
   ]
  },
  {
   "cell_type": "code",
   "execution_count": 97,
   "id": "59451676",
   "metadata": {},
   "outputs": [],
   "source": [
    "import re\n",
    "\n",
    "def clean_text(s: str) -> str:\n",
    "    s = str(s).strip()\n",
    "    s = re.sub(r'\\s+', ' ', s)  # replace multiple spaces/tabs/newlines with a single space\n",
    "    return s\n",
    "\n",
    "# Apply cleaning function\n",
    "df['question'] = df['question'].apply(clean_text)\n",
    "df['answer']   = df['answer'].apply(clean_text)\n"
   ]
  },
  {
   "cell_type": "markdown",
   "id": "ce307738",
   "metadata": {},
   "source": [
    "Drop Empty Questions/Answers"
   ]
  },
  {
   "cell_type": "code",
   "execution_count": 98,
   "id": "2144f562",
   "metadata": {},
   "outputs": [],
   "source": [
    "# Remove rows with missing or now-empty fields\n",
    "df = df.dropna(subset=['question', 'answer'])\n"
   ]
  },
  {
   "cell_type": "markdown",
   "id": "d7bc2a84",
   "metadata": {},
   "source": [
    "Final Dataset Preview"
   ]
  },
  {
   "cell_type": "code",
   "execution_count": 99,
   "id": "43cf18a3",
   "metadata": {},
   "outputs": [
    {
     "name": "stdout",
     "output_type": "stream",
     "text": [
      "✅ Dataset shape after cleaning: (16407, 6)\n"
     ]
    },
    {
     "data": {
      "text/html": [
       "<div>\n",
       "<style scoped>\n",
       "    .dataframe tbody tr th:only-of-type {\n",
       "        vertical-align: middle;\n",
       "    }\n",
       "\n",
       "    .dataframe tbody tr th {\n",
       "        vertical-align: top;\n",
       "    }\n",
       "\n",
       "    .dataframe thead th {\n",
       "        text-align: right;\n",
       "    }\n",
       "</style>\n",
       "<table border=\"1\" class=\"dataframe\">\n",
       "  <thead>\n",
       "    <tr style=\"text-align: right;\">\n",
       "      <th></th>\n",
       "      <th>question</th>\n",
       "      <th>answer</th>\n",
       "      <th>source</th>\n",
       "      <th>focus_area</th>\n",
       "      <th>q_len</th>\n",
       "      <th>a_len</th>\n",
       "    </tr>\n",
       "  </thead>\n",
       "  <tbody>\n",
       "    <tr>\n",
       "      <th>0</th>\n",
       "      <td>What is (are) Glaucoma ?</td>\n",
       "      <td>Glaucoma is a group of diseases that can damag...</td>\n",
       "      <td>NIHSeniorHealth</td>\n",
       "      <td>Glaucoma</td>\n",
       "      <td>24</td>\n",
       "      <td>1850</td>\n",
       "    </tr>\n",
       "    <tr>\n",
       "      <th>1</th>\n",
       "      <td>What causes Glaucoma ?</td>\n",
       "      <td>Nearly 2.7 million people have glaucoma, a lea...</td>\n",
       "      <td>NIHSeniorHealth</td>\n",
       "      <td>Glaucoma</td>\n",
       "      <td>22</td>\n",
       "      <td>1209</td>\n",
       "    </tr>\n",
       "    <tr>\n",
       "      <th>2</th>\n",
       "      <td>What are the symptoms of Glaucoma ?</td>\n",
       "      <td>Symptoms of Glaucoma Glaucoma can develop in o...</td>\n",
       "      <td>NIHSeniorHealth</td>\n",
       "      <td>Glaucoma</td>\n",
       "      <td>35</td>\n",
       "      <td>1607</td>\n",
       "    </tr>\n",
       "  </tbody>\n",
       "</table>\n",
       "</div>"
      ],
      "text/plain": [
       "                              question  \\\n",
       "0             What is (are) Glaucoma ?   \n",
       "1               What causes Glaucoma ?   \n",
       "2  What are the symptoms of Glaucoma ?   \n",
       "\n",
       "                                              answer           source  \\\n",
       "0  Glaucoma is a group of diseases that can damag...  NIHSeniorHealth   \n",
       "1  Nearly 2.7 million people have glaucoma, a lea...  NIHSeniorHealth   \n",
       "2  Symptoms of Glaucoma Glaucoma can develop in o...  NIHSeniorHealth   \n",
       "\n",
       "  focus_area  q_len  a_len  \n",
       "0   Glaucoma     24   1850  \n",
       "1   Glaucoma     22   1209  \n",
       "2   Glaucoma     35   1607  "
      ]
     },
     "execution_count": 99,
     "metadata": {},
     "output_type": "execute_result"
    }
   ],
   "source": [
    "print(\"✅ Dataset shape after cleaning:\", df.shape)\n",
    "df.head(3)"
   ]
  },
  {
   "cell_type": "markdown",
   "id": "d885cfb0",
   "metadata": {},
   "source": [
    "3. Data Preprocessing - Baseline Model"
   ]
  },
  {
   "cell_type": "code",
   "execution_count": 100,
   "id": "dff8c8d7",
   "metadata": {},
   "outputs": [],
   "source": [
    "import tensorflow as tf\n",
    "from tensorflow.keras.preprocessing.text import Tokenizer\n",
    "from tensorflow.keras.preprocessing.sequence import pad_sequences\n",
    "from sklearn.model_selection import train_test_split\n",
    "import numpy as np\n",
    "\n",
    "# 1. Extraire les données\n",
    "questions = df['question'].astype(str).tolist()\n",
    "answers = df['answer'].astype(str).tolist()\n",
    "\n",
    "# 2. Tokenizer (limite vocabulaire pour baseline)\n",
    "num_words = 5000\n",
    "tokenizer = Tokenizer(num_words=num_words, oov_token=\"<OOV>\")\n",
    "tokenizer.fit_on_texts(questions + answers)\n",
    "\n",
    "# 3. Encodage\n",
    "X_seq = tokenizer.texts_to_sequences(questions)\n",
    "y_seq = tokenizer.texts_to_sequences(answers)\n",
    "\n",
    "# 4. Padding (aligner les séquences à la même taille)\n",
    "max_len_q = max(len(x) for x in X_seq)\n",
    "max_len_a = max(len(x) for x in y_seq)\n",
    "\n",
    "X_pad = pad_sequences(X_seq, maxlen=max_len_q, padding='post')\n",
    "y_pad = pad_sequences(y_seq, maxlen=max_len_a, padding='post')\n",
    "\n",
    "# 5. Split train/test\n",
    "X_train, X_test, y_train, y_test = train_test_split(X_pad, y_pad, test_size=0.2, random_state=42)"
   ]
  },
  {
   "cell_type": "code",
   "execution_count": 101,
   "id": "674e8fda",
   "metadata": {},
   "outputs": [
    {
     "name": "stdout",
     "output_type": "stream",
     "text": [
      "Epoch 1/3\n"
     ]
    },
    {
     "name": "stderr",
     "output_type": "stream",
     "text": [
      "c:\\Users\\yaako\\AppData\\Local\\Programs\\Python\\Python312\\Lib\\site-packages\\keras\\src\\layers\\core\\embedding.py:97: UserWarning: Argument `input_length` is deprecated. Just remove it.\n",
      "  warnings.warn(\n"
     ]
    },
    {
     "name": "stdout",
     "output_type": "stream",
     "text": [
      "\u001b[1m411/411\u001b[0m \u001b[32m━━━━━━━━━━━━━━━━━━━━\u001b[0m\u001b[37m\u001b[0m \u001b[1m10s\u001b[0m 20ms/step - accuracy: 0.1676 - loss: 4.8778 - val_accuracy: 0.1862 - val_loss: 4.5311\n",
      "Epoch 2/3\n",
      "\u001b[1m411/411\u001b[0m \u001b[32m━━━━━━━━━━━━━━━━━━━━\u001b[0m\u001b[37m\u001b[0m \u001b[1m8s\u001b[0m 20ms/step - accuracy: 0.1709 - loss: 4.4468 - val_accuracy: 0.1862 - val_loss: 4.5278\n",
      "Epoch 3/3\n",
      "\u001b[1m411/411\u001b[0m \u001b[32m━━━━━━━━━━━━━━━━━━━━\u001b[0m\u001b[37m\u001b[0m \u001b[1m8s\u001b[0m 20ms/step - accuracy: 0.1709 - loss: 4.4353 - val_accuracy: 0.1862 - val_loss: 4.5292\n"
     ]
    }
   ],
   "source": [
    "from tensorflow.keras.models import Sequential\n",
    "from tensorflow.keras.layers import Embedding, LSTM, Dense\n",
    "\n",
    "# Dimensions\n",
    "embedding_dim = 64\n",
    "hidden_dim = 128\n",
    "\n",
    "model = Sequential([\n",
    "    Embedding(input_dim=num_words, output_dim=embedding_dim, input_length=max_len_q),\n",
    "    LSTM(hidden_dim),\n",
    "    Dense(num_words, activation='softmax')  # prédiction sur le vocabulaire\n",
    "])\n",
    "\n",
    "model.compile(optimizer='adam', loss='sparse_categorical_crossentropy', metrics=['accuracy'])\n",
    "\n",
    "# Entraînement (baseline rapide)\n",
    "history = model.fit(X_train, y_train[:,0],  # simplification: prédire le 1er mot de la réponse\n",
    "                    epochs=3,\n",
    "                    validation_data=(X_test, y_test[:,0]))"
   ]
  },
  {
   "cell_type": "code",
   "execution_count": 102,
   "id": "db81309d",
   "metadata": {},
   "outputs": [
    {
     "data": {
      "image/png": "[encoded data removed]",
      "text/plain": [
       "<Figure size 640x480 with 1 Axes>"
      ]
     },
     "metadata": {},
     "output_type": "display_data"
    },
    {
     "data": {
      "image/png": "[encoded data removed]",
      "text/plain": [
       "<Figure size 640x480 with 1 Axes>"
      ]
     },
     "metadata": {},
     "output_type": "display_data"
    }
   ],
   "source": [
    "import matplotlib.pyplot as plt\n",
    "\n",
    "# Accuracy\n",
    "plt.plot(history.history['accuracy'], label='train acc')\n",
    "plt.plot(history.history['val_accuracy'], label='val acc')\n",
    "plt.legend()\n",
    "plt.title(\"Accuracy\")\n",
    "plt.show()\n",
    "\n",
    "# Loss\n",
    "plt.plot(history.history['loss'], label='train loss')\n",
    "plt.plot(history.history['val_loss'], label='val loss')\n",
    "plt.legend()\n",
    "plt.title(\"Loss\")\n",
    "plt.show()"
   ]
  }
 ],
 "metadata": {
  "kernelspec": {
   "display_name": "Python 3",
   "language": "python",
   "name": "python3"
  },
  "language_info": {
   "codemirror_mode": {
    "name": "ipython",
    "version": 3
   },
   "file_extension": ".py",
   "mimetype": "text/x-python",
   "name": "python",
   "nbconvert_exporter": "python",
   "pygments_lexer": "ipython3",
   "version": "3.12.6"
  }
 },
 "nbformat": 4,
 "nbformat_minor": 5
}
